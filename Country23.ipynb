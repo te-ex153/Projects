{
 "cells": [
  {
   "cell_type": "markdown",
   "id": "7f33b65b-9cf5-41f5-9292-6782c0d82c58",
   "metadata": {},
   "source": [
    "# 1. Introduction\n",
    "### 1.1 Client Background and Problem Statement"
   ]
  },
  {
   "cell_type": "markdown",
   "id": "6f969b3c-46ee-46fd-a519-59b00f331c87",
   "metadata": {},
   "source": [
    "### 1.2 Project Goal"
   ]
  },
  {
   "cell_type": "markdown",
   "id": "270b0a34-2284-48f4-b4b5-971503feddb6",
   "metadata": {},
   "source": [
    "# 2. Data Comprehension\n",
    "### 2.1 Data Collection"
   ]
  },
  {
   "cell_type": "markdown",
   "id": "adb1f403-e67f-4794-b80d-4104e620bee1",
   "metadata": {},
   "source": [
    "### Data explanation\n",
    "We started with exploring economic, and policy measures and found several that the team felt could give insights congruent to the needs of the client. Below is the indicator name defintion, and dataframe that we will read into the notebook for exploration and manipulation\n",
    "#### Target Variables\n",
    "1. **Gross Domestic Product per capita**(df_gdp) - Monetary value of all of the good and services produced within a contries borders - seen as a key indicator of economic health\n",
    "2. **Consumer Price Index**(df_cpi) - An economic indicator that measures the average change in price for a basket of goods (essential household's goods and services) over time. it measures inflation\n",
    "\n",
    "#### Features\n",
    "a. "
   ]
  },
  {
   "cell_type": "code",
   "execution_count": 5,
   "id": "91e4b85b-afe0-41ac-bb04-0276981a7eff",
   "metadata": {},
   "outputs": [],
   "source": [
    "#Libraries for data collection, manipulation, and exploration\n",
    "import pandas as pd\n",
    "import numpy as np\n",
    "import matplotlib.pyplot as plt\n",
    "import seaborn as sns\n",
    "%matplotlib inline"
   ]
  },
  {
   "cell_type": "code",
   "execution_count": 27,
   "id": "49d650b2-1cf7-4683-a8bb-ae39df890ab9",
   "metadata": {},
   "outputs": [
    {
     "data": {
      "text/html": [
       "<div>\n",
       "<style scoped>\n",
       "    .dataframe tbody tr th:only-of-type {\n",
       "        vertical-align: middle;\n",
       "    }\n",
       "\n",
       "    .dataframe tbody tr th {\n",
       "        vertical-align: top;\n",
       "    }\n",
       "\n",
       "    .dataframe thead th {\n",
       "        text-align: right;\n",
       "    }\n",
       "</style>\n",
       "<table border=\"1\" class=\"dataframe\">\n",
       "  <thead>\n",
       "    <tr style=\"text-align: right;\">\n",
       "      <th></th>\n",
       "      <th>Country or Area</th>\n",
       "      <th>Year</th>\n",
       "      <th>Value</th>\n",
       "      <th>Value Footnotes</th>\n",
       "    </tr>\n",
       "  </thead>\n",
       "  <tbody>\n",
       "    <tr>\n",
       "      <th>0</th>\n",
       "      <td>Albania</td>\n",
       "      <td>2020</td>\n",
       "      <td>22.8</td>\n",
       "      <td>1.0</td>\n",
       "    </tr>\n",
       "    <tr>\n",
       "      <th>1</th>\n",
       "      <td>Albania</td>\n",
       "      <td>2019</td>\n",
       "      <td>23.6</td>\n",
       "      <td>1.0</td>\n",
       "    </tr>\n",
       "    <tr>\n",
       "      <th>2</th>\n",
       "      <td>Albania</td>\n",
       "      <td>2018</td>\n",
       "      <td>22.7</td>\n",
       "      <td>1.0</td>\n",
       "    </tr>\n",
       "    <tr>\n",
       "      <th>3</th>\n",
       "      <td>Albania</td>\n",
       "      <td>2017</td>\n",
       "      <td>24.6</td>\n",
       "      <td>1.0</td>\n",
       "    </tr>\n",
       "    <tr>\n",
       "      <th>4</th>\n",
       "      <td>Albania</td>\n",
       "      <td>2016</td>\n",
       "      <td>25.0</td>\n",
       "      <td>1.0</td>\n",
       "    </tr>\n",
       "  </tbody>\n",
       "</table>\n",
       "</div>"
      ],
      "text/plain": [
       "  Country or Area  Year  Value  Value Footnotes\n",
       "0         Albania  2020   22.8              1.0\n",
       "1         Albania  2019   23.6              1.0\n",
       "2         Albania  2018   22.7              1.0\n",
       "3         Albania  2017   24.6              1.0\n",
       "4         Albania  2016   25.0              1.0"
      ]
     },
     "execution_count": 27,
     "metadata": {},
     "output_type": "execute_result"
    }
   ],
   "source": [
    "df_reg = pd.read_csv('https://raw.githubusercontent.com/te-ex153/Data/refs/heads/main/Business_Regulation.csv')\n",
    "df_cpi = pd.read_csv('https://raw.githubusercontent.com/te-ex153/Data/refs/heads/main/CPI.csv')\n",
    "df_edb = pd.read_csv('https://raw.githubusercontent.com/te-ex153/Data/refs/heads/main/Ease_Doing_Business.csv')\n",
    "df_gdp = pd.read_csv('https://raw.githubusercontent.com/te-ex153/Data/refs/heads/main/GDP_per_cap_PPP.csv')\n",
    "df_gender = pd.read_csv('https://raw.githubusercontent.com/te-ex153/Data/refs/heads/main/Gender_Equity.csv')\n",
    "df_health = pd.read_csv('https://raw.githubusercontent.com/te-ex153/Data/refs/heads/main/Health_Spend.csv')\n",
    "df_pov = pd.read_csv('https://raw.githubusercontent.com/te-ex153/Data/refs/heads/main/Poverty_Pct_Pop.csv')\n",
    "df_pre = pd.read_csv('https://raw.githubusercontent.com/te-ex153/Data/refs/heads/main/Public_Resource_Equity.csv')\n",
    "df_social = pd.read_csv('https://raw.githubusercontent.com/te-ex153/Data/refs/heads/main/Social_Inclusion.csv')\n",
    "df_trade = pd.read_csv('https://raw.githubusercontent.com/te-ex153/Data/refs/heads/main/Trade.csv')\n",
    "df_tac = pd.read_csv('https://raw.githubusercontent.com/te-ex153/Data/refs/heads/main/Transparency_Accountability_Corruption.csv')\n",
    "df_inc2q = pd.read_csv('https://raw.githubusercontent.com/te-ex153/Data/refs/heads/main/income_2nd_quintile.csv')\n",
    "df_inc3q = pd.read_csv('https://raw.githubusercontent.com/te-ex153/Data/refs/heads/main/income_3rd_quintile.csv')\n",
    "df_inc4q = pd.read_csv('https://raw.githubusercontent.com/te-ex153/Data/refs/heads/main/income_4th_quintile.csv')\n",
    "df_inc5q = pd.read_csv('https://raw.githubusercontent.com/te-ex153/Data/refs/heads/main/income_5th_quintile.csv')\n",
    "df_incT10 = pd.read_csv('https://raw.githubusercontent.com/te-ex153/Data/refs/heads/main/income_highest_10.csv')"
   ]
  },
  {
   "cell_type": "code",
   "execution_count": null,
   "id": "fc7024cf-968a-441d-b560-24228fe53167",
   "metadata": {},
   "outputs": [],
   "source": []
  },
  {
   "cell_type": "markdown",
   "id": "2bae7091-5439-4ee6-ad58-96781fc0bc39",
   "metadata": {},
   "source": [
    "### 2.1 EDA - Exploratory Data Analysis"
   ]
  },
  {
   "cell_type": "code",
   "execution_count": null,
   "id": "6a834cff-7aeb-401e-a0a8-b96e78bf5de5",
   "metadata": {},
   "outputs": [],
   "source": []
  },
  {
   "cell_type": "markdown",
   "id": "717bb0cd-88cc-40c6-8039-fa5c58605961",
   "metadata": {},
   "source": [
    "# 3. Data Preparation\n",
    "- Cleaning\n",
    "- Transformation\n",
    "- Feature engineering"
   ]
  },
  {
   "cell_type": "markdown",
   "id": "0e6e6b90-8257-4e02-bcaa-8c3007b225de",
   "metadata": {},
   "source": [
    "# 4. Model\n",
    "- Model Selection\n",
    "- Training and testing\n",
    "- Evaluation"
   ]
  },
  {
   "cell_type": "markdown",
   "id": "4995feec-f18f-461d-ae1f-785a24e727d9",
   "metadata": {},
   "source": [
    "# 5. Results\n",
    "- Insights\n",
    "- Reccomendations"
   ]
  },
  {
   "cell_type": "markdown",
   "id": "03d58834-6ff5-4401-b4a7-659ad4777452",
   "metadata": {},
   "source": [
    "# 6. Conclusion\n",
    "- Recap\n",
    "- Next Steps"
   ]
  },
  {
   "cell_type": "markdown",
   "id": "fbf2e965-b0e0-4919-8de2-676f8999eea9",
   "metadata": {},
   "source": [
    "# Appendix\n",
    "- additional information visualizations, etc"
   ]
  },
  {
   "cell_type": "code",
   "execution_count": null,
   "id": "64ce8bdd-f1a5-4faa-903f-b39ee6c067bd",
   "metadata": {},
   "outputs": [],
   "source": []
  }
 ],
 "metadata": {
  "kernelspec": {
   "display_name": "Python 3 (ipykernel)",
   "language": "python",
   "name": "python3"
  },
  "language_info": {
   "codemirror_mode": {
    "name": "ipython",
    "version": 3
   },
   "file_extension": ".py",
   "mimetype": "text/x-python",
   "name": "python",
   "nbconvert_exporter": "python",
   "pygments_lexer": "ipython3",
   "version": "3.9.13"
  }
 },
 "nbformat": 4,
 "nbformat_minor": 5
}
