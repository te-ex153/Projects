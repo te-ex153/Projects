{
 "cells": [
  {
   "cell_type": "markdown",
   "id": "7f33b65b-9cf5-41f5-9292-6782c0d82c58",
   "metadata": {},
   "source": [
    "# 1. Introduction\n",
    "### 1.1 Client Background and Problem Statement"
   ]
  },
  {
   "cell_type": "markdown",
   "id": "6f969b3c-46ee-46fd-a519-59b00f331c87",
   "metadata": {},
   "source": [
    "### 1.2 Project Goal"
   ]
  },
  {
   "cell_type": "markdown",
   "id": "270b0a34-2284-48f4-b4b5-971503feddb6",
   "metadata": {},
   "source": [
    "# 2. Data Comprehension\n",
    "### 2.1 Data Collection"
   ]
  },
  {
   "cell_type": "markdown",
   "id": "adb1f403-e67f-4794-b80d-4104e620bee1",
   "metadata": {},
   "source": [
    "### Data explanation\n",
    "We started with exploring economic, and policy measures and found several that the team felt could give insights congruent to the needs of the client. Below is the indicator name defintion, and dataframe that we will read into the notebook for exploration and manipulation\n",
    "#### Target Variables\n",
    "1. **Gross Domestic Product per capita (df_gdp)**_*[$US/Capita]* - Monetary value of all of the good and services produced within a contries borders - seen as a key indicator of economic health\n",
    "2. **Consumer Price Index (df_cpi)**_*[Index number] - An economic indicator that measures the average change in price for a basket of goods (essential household's goods and services) over time. it measures inflation\n",
    "3. **Poverty Score (df_cpi)**_*[%Population]*\n",
    "\n",
    "#### Features\n",
    "Some of the measures below are united nation assessments **Country Policy and Institutional Assessment** which evaluate a country's policy and intitutional framework\n",
    "\n",
    "- **CPIA - Business Regulatory Assessment (df_reg)**_*[Rating 1-6]* - A united nations rating that assesses how conducive a countries policies are for private sector development (e.g. Ease of operating a business, Regulatory framework, Property rights)\n",
    "- **CPIA - Gender Equity (df_gender)**_*[Rating 1-6]* - rating that measures the extent to which a country's policies promote gender equity and empower women\n",
    "- **CPIA - Social Inclusion (df_social)**_*[Rating 1-6]*\n",
    "- **CPIA - Transparency Accountabilty and Corruption (df_tac)**_*[Rating 1-6]*\n",
    "- **CPIA - Public Resource Equity (df_pre)**_*[Rating 1-6]*\n",
    "- **Health expenditures (df_health)**_*[%US/GDP]*\n",
    "- **Trade Exports (df_trade, df_pop)**_*[%US/Population]*\n",
    "- **Trade Imports (df_trade, df_pop)**_*[%US/Population]*\n",
    "- **Ease of Doing Business (df_edb)**_*[Rating 0-100]*\n",
    "- **Income Distribution (df_inc2q, df_inc3q, df_inc4q, df_ind5q, df_incT10)**_*[%Population]*\n",
    "- **Education expenditures (df_edu)**_*[$US/GDP]*\n",
    "- **Secondary education enrollment (df_college)**_*[%Population]*"
   ]
  },
  {
   "cell_type": "code",
   "execution_count": 100,
   "id": "91e4b85b-afe0-41ac-bb04-0276981a7eff",
   "metadata": {},
   "outputs": [],
   "source": [
    "#Libraries for data collection, manipulation, and exploration\n",
    "import pandas as pd\n",
    "import numpy as np\n",
    "import matplotlib.pyplot as plt\n",
    "import seaborn as sns\n",
    "%matplotlib inline"
   ]
  },
  {
   "cell_type": "code",
   "execution_count": 101,
   "id": "49d650b2-1cf7-4683-a8bb-ae39df890ab9",
   "metadata": {},
   "outputs": [],
   "source": [
    "#### Target Variables\n",
    "df_gdp = pd.read_csv('https://raw.githubusercontent.com/te-ex153/Data/refs/heads/main/GDP_per_cap_PPP.csv')\n",
    "df_cpi = pd.read_csv('https://raw.githubusercontent.com/te-ex153/Data/refs/heads/main/CPI.csv')\n",
    "df_pov = pd.read_csv('https://raw.githubusercontent.com/te-ex153/Data/refs/heads/main/Poverty_Pct_Pop.csv')\n",
    "\n",
    "#### CPIA\n",
    "df_edb = pd.read_csv('https://raw.githubusercontent.com/te-ex153/Data/refs/heads/main/Ease_Doing_Business.csv')\n",
    "df_reg = pd.read_csv('https://raw.githubusercontent.com/te-ex153/Data/refs/heads/main/Business_Regulation.csv')\n",
    "df_gender = pd.read_csv('https://raw.githubusercontent.com/te-ex153/Data/refs/heads/main/Gender_Equity.csv')\n",
    "df_pre = pd.read_csv('https://raw.githubusercontent.com/te-ex153/Data/refs/heads/main/Public_Resource_Equity.csv')\n",
    "df_social = pd.read_csv('https://raw.githubusercontent.com/te-ex153/Data/refs/heads/main/Social_Inclusion.csv')\n",
    "df_tac = pd.read_csv('https://raw.githubusercontent.com/te-ex153/Data/refs/heads/main/Transparency_Accountability_Corruption.csv')\n",
    "\n",
    "#### Government Expenditures\n",
    "df_health = pd.read_csv('https://raw.githubusercontent.com/te-ex153/Data/refs/heads/main/Health_Spend.csv')\n",
    "df_edu = pd.read_csv('https://raw.githubusercontent.com/te-ex153/Data/refs/heads/main/Education_Spend.csv')\n",
    "\n",
    "####  Financial\n",
    "df_trade = pd.read_csv('https://raw.githubusercontent.com/te-ex153/Data/refs/heads/main/Trade.csv')\n",
    "df_inc2q = pd.read_csv('https://raw.githubusercontent.com/te-ex153/Data/refs/heads/main/income_2nd_quintile.csv')\n",
    "df_inc3q = pd.read_csv('https://raw.githubusercontent.com/te-ex153/Data/refs/heads/main/income_3rd_quintile.csv')\n",
    "df_inc4q = pd.read_csv('https://raw.githubusercontent.com/te-ex153/Data/refs/heads/main/income_4th_quintile.csv')\n",
    "df_inc5q = pd.read_csv('https://raw.githubusercontent.com/te-ex153/Data/refs/heads/main/income_5th_quintile.csv')\n",
    "df_incT10 = pd.read_csv('https://raw.githubusercontent.com/te-ex153/Data/refs/heads/main/income_highest_10.csv')\n",
    "\n",
    "#### Other\n",
    "df_college = pd.read_csv('https://raw.githubusercontent.com/te-ex153/Data/refs/heads/main/College_Enrollment.csv')\n",
    "df_pop = pd.read_csv('https://raw.githubusercontent.com/te-ex153/Data/refs/heads/main/population2.csv')"
   ]
  },
  {
   "cell_type": "markdown",
   "id": "2bae7091-5439-4ee6-ad58-96781fc0bc39",
   "metadata": {},
   "source": [
    "### 2.1 EDA - Exploratory Data Analysis and Cleaning"
   ]
  },
  {
   "cell_type": "code",
   "execution_count": 102,
   "id": "6a834cff-7aeb-401e-a0a8-b96e78bf5de5",
   "metadata": {},
   "outputs": [
    {
     "data": {
      "text/html": [
       "<div>\n",
       "<style scoped>\n",
       "    .dataframe tbody tr th:only-of-type {\n",
       "        vertical-align: middle;\n",
       "    }\n",
       "\n",
       "    .dataframe tbody tr th {\n",
       "        vertical-align: top;\n",
       "    }\n",
       "\n",
       "    .dataframe thead th {\n",
       "        text-align: right;\n",
       "    }\n",
       "</style>\n",
       "<table border=\"1\" class=\"dataframe\">\n",
       "  <thead>\n",
       "    <tr style=\"text-align: right;\">\n",
       "      <th></th>\n",
       "      <th>area</th>\n",
       "      <th>year</th>\n",
       "      <th>gdp</th>\n",
       "    </tr>\n",
       "  </thead>\n",
       "  <tbody>\n",
       "    <tr>\n",
       "      <th>0</th>\n",
       "      <td>Afghanistan</td>\n",
       "      <td>2021</td>\n",
       "      <td>1673.96</td>\n",
       "    </tr>\n",
       "    <tr>\n",
       "      <th>1</th>\n",
       "      <td>Afghanistan</td>\n",
       "      <td>2020</td>\n",
       "      <td>2078.60</td>\n",
       "    </tr>\n",
       "    <tr>\n",
       "      <th>2</th>\n",
       "      <td>Afghanistan</td>\n",
       "      <td>2019</td>\n",
       "      <td>2168.13</td>\n",
       "    </tr>\n",
       "    <tr>\n",
       "      <th>3</th>\n",
       "      <td>Afghanistan</td>\n",
       "      <td>2018</td>\n",
       "      <td>2110.24</td>\n",
       "    </tr>\n",
       "    <tr>\n",
       "      <th>4</th>\n",
       "      <td>Afghanistan</td>\n",
       "      <td>2017</td>\n",
       "      <td>2096.09</td>\n",
       "    </tr>\n",
       "    <tr>\n",
       "      <th>...</th>\n",
       "      <td>...</td>\n",
       "      <td>...</td>\n",
       "      <td>...</td>\n",
       "    </tr>\n",
       "    <tr>\n",
       "      <th>7723</th>\n",
       "      <td>Zimbabwe</td>\n",
       "      <td>1994</td>\n",
       "      <td>1958.13</td>\n",
       "    </tr>\n",
       "    <tr>\n",
       "      <th>7724</th>\n",
       "      <td>Zimbabwe</td>\n",
       "      <td>1993</td>\n",
       "      <td>1765.45</td>\n",
       "    </tr>\n",
       "    <tr>\n",
       "      <th>7725</th>\n",
       "      <td>Zimbabwe</td>\n",
       "      <td>1992</td>\n",
       "      <td>1731.23</td>\n",
       "    </tr>\n",
       "    <tr>\n",
       "      <th>7726</th>\n",
       "      <td>Zimbabwe</td>\n",
       "      <td>1991</td>\n",
       "      <td>1907.65</td>\n",
       "    </tr>\n",
       "    <tr>\n",
       "      <th>7727</th>\n",
       "      <td>Zimbabwe</td>\n",
       "      <td>1990</td>\n",
       "      <td>1794.15</td>\n",
       "    </tr>\n",
       "  </tbody>\n",
       "</table>\n",
       "<p>7728 rows × 3 columns</p>\n",
       "</div>"
      ],
      "text/plain": [
       "             area  year      gdp\n",
       "0     Afghanistan  2021  1673.96\n",
       "1     Afghanistan  2020  2078.60\n",
       "2     Afghanistan  2019  2168.13\n",
       "3     Afghanistan  2018  2110.24\n",
       "4     Afghanistan  2017  2096.09\n",
       "...           ...   ...      ...\n",
       "7723     Zimbabwe  1994  1958.13\n",
       "7724     Zimbabwe  1993  1765.45\n",
       "7725     Zimbabwe  1992  1731.23\n",
       "7726     Zimbabwe  1991  1907.65\n",
       "7727     Zimbabwe  1990  1794.15\n",
       "\n",
       "[7728 rows x 3 columns]"
      ]
     },
     "execution_count": 102,
     "metadata": {},
     "output_type": "execute_result"
    }
   ],
   "source": [
    "'''\n",
    "I know that i want to end up with a master dataframe with a index ordered by country then year\n",
    "and columns of the various features mentioned above along with the three target variables\n",
    "on the end of the table\n",
    "Therefore for every df i will work to that end by\n",
    "1. take an initial look at the data\n",
    "2. address any missing values\n",
    "3. strip white spaces \n",
    "4. drop any columns and rows that does not contribute to the study\n",
    "5. reorganize standardize feature, level names, etc to merge seamlessly with other dfs moving forward\n",
    "'''\n",
    "##############  GDP Dataframe\n",
    "nan_count_gdp = {\n",
    "    'Colulmn': ['Country or Area', 'Year', 'Value'],\n",
    "    'NoN Count': [\n",
    "        df_gdp['Country or Area'].isnull().sum(), \n",
    "        df_gdp['Year'].isnull().sum(),\n",
    "        df_gdp['Value'].isnull().sum()\n",
    "    ]\n",
    "}\n",
    "nan_summary_gdp = pd.DataFrame(nan_count_gdp)\n",
    "nan_summary_gdp   ######### NO missing data\n",
    "\n",
    "df_gdp = df_gdp[['Country or Area', 'Year', 'Value']]  ########## Dropped a footnote column\n",
    "df_gdp = df_gdp.applymap(lambda x: x.strip() if isinstance(x, str) else x)  ######### clean white space for all cells in table\n",
    "df_gdp.columns = df_gdp.columns.str.strip()   ########## strip whitespace for the columns\n",
    "df_gdp = df_gdp.rename(columns=str.lower) ######## make columns all lower case\n",
    "df_gdp = df_gdp.rename(columns={'country or area': 'area', 'value': 'gdp'})    ############ change names to accomodate standardization moving forward\n",
    "df_gdp['gdp'] = df_gdp['gdp'].round(2)  ################## round to two decimals\n",
    "df_gdp['area'] = df_gdp['area'].astype(str)\n",
    "df_gdp"
   ]
  },
  {
   "cell_type": "code",
   "execution_count": 103,
   "id": "c5e5653e-a669-40c0-9897-d48b9f75934b",
   "metadata": {},
   "outputs": [
    {
     "data": {
      "text/plain": [
       "<bound method Series.unique of 1        ADVANCED ECONOMIES\n",
       "3        ADVANCED ECONOMIES\n",
       "5        ADVANCED ECONOMIES\n",
       "7        ADVANCED ECONOMIES\n",
       "9        ADVANCED ECONOMIES\n",
       "                ...        \n",
       "15277                 WORLD\n",
       "15279                 WORLD\n",
       "15281                 WORLD\n",
       "15283                 WORLD\n",
       "15284                 WORLD\n",
       "Name: area, Length: 535, dtype: object>"
      ]
     },
     "execution_count": 103,
     "metadata": {},
     "output_type": "execute_result"
    }
   ],
   "source": [
    "import re\n",
    "################# Repeat for CPI Data frome\n",
    "'''\n",
    "For cpi there are several columns that i dont need. i will only kep similar columns\n",
    "to that of the gdp df. area year and value.   Also every other row shows 'CPI change' and\n",
    "i dont need that in the initial df\n",
    "'''\n",
    "df_cpi = df_cpi.applymap(lambda x: x.strip() if isinstance(x, str) else x)  ###### strip whitespace\n",
    "df_cpi.columns = df_cpi.columns.str.strip()\n",
    "\n",
    "df_cpi = df_cpi[df_cpi['Description'].str.match(r'^\\s*CPI\\s*$', na=False)]  ####### drop unneeded rows\n",
    "df_cpi = df_cpi[['Country or Area', 'Year', 'Value']]           ########## drop unneeded columns\n",
    "df_cpi['Value'] = df_cpi['Value'].round(2)\n",
    "df_cpi = df_cpi.rename(columns={'Country or Area': 'Area', 'Value': 'cpi'})\n",
    "df_cpi = df_cpi.rename(columns=str.lower)\n",
    "df_cpi['area'].unique"
   ]
  },
  {
   "cell_type": "markdown",
   "id": "717bb0cd-88cc-40c6-8039-fa5c58605961",
   "metadata": {},
   "source": [
    "# 3. Data Preparation\n",
    "- Cleaning\n",
    "- Transformation\n",
    "- Feature engineering"
   ]
  },
  {
   "cell_type": "markdown",
   "id": "0e6e6b90-8257-4e02-bcaa-8c3007b225de",
   "metadata": {},
   "source": [
    "# 4. Model\n",
    "- Model Selection\n",
    "- Training and testing\n",
    "- Evaluation"
   ]
  },
  {
   "cell_type": "markdown",
   "id": "4995feec-f18f-461d-ae1f-785a24e727d9",
   "metadata": {},
   "source": [
    "# 5. Results\n",
    "- Insights\n",
    "- Reccomendations"
   ]
  },
  {
   "cell_type": "markdown",
   "id": "03d58834-6ff5-4401-b4a7-659ad4777452",
   "metadata": {},
   "source": [
    "# 6. Conclusion\n",
    "- Recap\n",
    "- Next Steps"
   ]
  },
  {
   "cell_type": "markdown",
   "id": "fbf2e965-b0e0-4919-8de2-676f8999eea9",
   "metadata": {},
   "source": [
    "# Appendix\n",
    "- additional information visualizations, etc"
   ]
  },
  {
   "cell_type": "code",
   "execution_count": null,
   "id": "64ce8bdd-f1a5-4faa-903f-b39ee6c067bd",
   "metadata": {},
   "outputs": [],
   "source": []
  }
 ],
 "metadata": {
  "kernelspec": {
   "display_name": "Python 3 (ipykernel)",
   "language": "python",
   "name": "python3"
  },
  "language_info": {
   "codemirror_mode": {
    "name": "ipython",
    "version": 3
   },
   "file_extension": ".py",
   "mimetype": "text/x-python",
   "name": "python",
   "nbconvert_exporter": "python",
   "pygments_lexer": "ipython3",
   "version": "3.9.13"
  }
 },
 "nbformat": 4,
 "nbformat_minor": 5
}
